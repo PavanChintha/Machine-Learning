{
  "cells": [
    {
      "cell_type": "markdown",
      "metadata": {
        "id": "view-in-github",
        "colab_type": "text"
      },
      "source": [
        "<a href=\"https://colab.research.google.com/github/PavanChintha/Machine-Learning/blob/main/Logistic_Regression.ipynb\" target=\"_parent\"><img src=\"https://colab.research.google.com/assets/colab-badge.svg\" alt=\"Open In Colab\"/></a>"
      ]
    },
    {
      "cell_type": "markdown",
      "metadata": {
        "id": "aF4F4gVud6v3"
      },
      "source": [
        "# Logistic regression\n",
        "\n",
        "Things covered in this tutorial\n",
        "\n",
        "* Introduction \n",
        "* Classification based on Logistic Regression\n",
        "* Regularization"
      ]
    },
    {
      "cell_type": "markdown",
      "metadata": {
        "id": "6_MFIEnQhg6s"
      },
      "source": [
        "#Definition\n",
        "Logistic regression is a technique for modelling the probability of an event. Just like linear regression, it helps you understand the relationship between one or more variables and a target variable, except that, in this case, our target variable is categorical in nature.\n",
        "\n",
        "The structure of a logistic regression is also similar to that of a linear regression model: you have a set of explanatory variables (X1, X2…) and our target binary variable (Y).\n",
        "\n",
        "Linear Regression Equation:\n",
        "\n",
        "![image.png](data:image/png;base64,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)\n",
        "\n",
        "Where, y is dependent variable and x1, x2 ... and Xn are explanatory variables.\n",
        "\n",
        "Sigmoid Function:\n",
        "\n",
        "![image.png](data:image/png;base64,iVBORw0KGgoAAAANSUhEUgAAAHkAAAAkCAIAAAAiiAI3AAAEyklEQVRoBe1ZMWziVhh+V1VmwUs8mcUsYfJEFpBO8UQWWMhyHtowtJHaIvWUSFwilWOIGEisHop0tMOllcJSqwOpdLDEk7OYxSx9S2Gxh+LlXhZ7sZdU7iXUgAHnQl5RZC+89///+7//ff7//z3g2c3NDQgfLAx8hgUlBHEZCLnGlwch1yHX+BjAhxTmdcg1PgbwIYV5HXKNjwF8SKuf11pblE18hARDQorYqJVKLc01h+dlsR9g3cpzDVuyzZABdoLRxIaSvp5nnQFEAID+ZQcRVAD4zwPYPJKJjYYDVRKbneje74cb/iC22jY2duIjpY00qHSaTTV58mvhP/FIv9SBCdsdFdljPiOReIrn1vN5Ry7rbI4FYAgHYD23ylwP2+VjmaBBXx6Y2bHdeCd2T7LSu7FbUV8sNVSSBrCrE0mv2ZyxJtZ6m4fbdy7mWE6rSDbHs9NiVxIBve5gfTMZAfZA0RI5xt9sXPp/5XUsVz3NAaCUpSu3Dv0fsytZqeIoZRK8cMoDs/3yYs6aCU8OspwJ0VKmlmEQdIwEtioP4kk2EsTpLK6R/KYmDlCUK+6uyU3JsC0rktl7vZ0I5DUI8mIbU5GczYMR1YsXPMTCHiriWatnAsIBZKZYyc3vUFQqzyqtN2+cngyS28FinHE2wvN2rHiSJbv1V7XB1oEgCNUMqpfPghy3D9mxdy2Sr4hMGsuxaKqNr75soGzlVBCEk21HFKE3kumxqRmxolDZL6QoMplenzbwk/jntQYBt0n3m32HyR4WWXe/0SgBdBUOQWKs97n53zb8PN/KIhuF13ywGhv3gmSZ4Ko4qLaVermJMj8VN1w01JU0OkWPBzMxG3aOXinbf5wk2i0zf5gOWOv+XMf5/TjQzuF1lE3ftn0d6g6gwaRbitsXuIlIljIdSgqVqU7CLXRtKo2jj7fej6aWDhEsqdHRwul3b0qidA0o/eK4JgELOWtcpbI1vytQLMdpqFVvWrtCMTHyvWDgz7W7CLnHPXuXksMeNACTYefHsADsHmrtSqUz/L2pBmS6KKQ9OP1GuZev8mO16FG7Q72vO0Tq65NqLnARRdhCZcYNZcK5dzqTaxt2+w6z82//cAtLHhDJvfzUO1zYQwDLVwsb9yVNk1V6i/cGOj52rPH5Q2ZEhABRmvYQbZsmIMn7xrwwhplcDxRoAYAsG4AIkuvvtOTBLz7X1MfpIf0OjOcKc4Nf3k2O4VJMSzcQAG7R2sPL+vEVe1DNzauFuaHNUj6b8d+udv7FizMym40i5DgWwfJ7RW6Z4KZce/kOWsgwLIeI0gwdZXd/3r89ZWCjpGaFqe+Fw3a5LGoW0g0LEBTDrFHc/mlhfi0H6CEA2Fr7+LiDKIoENljjdnZzCU+Wz6Lu/vIb3+fD+++fP//m/Qdf5WML//zxh9/+XhLIX2+X5+uhIfnfr23YhQ6TwnYSelPEVi+vk5vLqiGG/y6zLF/eKD9l7MN1X/z2xZFsAeOiXAr0W+Gn4M5cY/ek69Ty2lWEiuG6Os3c0p1iVr++0+P+tJXasVmsbD1Kv8S9mQm8VeMamMgkqafINAArx/VELjylqU+/fkrbW6m9hFzjex0h1yHX+BjAhxTmdcg1PgbwIYV5HXKNjwF8SP8A4iYcKn2xG7wAAAAASUVORK5CYII=)\n",
        "\n",
        "Apply Sigmoid function on linear regression:\n",
        "\n",
        "![image.png](data:image/png;base64,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)\n",
        "\n",
        "Ref: https://www.datacamp.com/community/tutorials/understanding-logistic-regression-python"
      ]
    },
    {
      "cell_type": "markdown",
      "metadata": {
        "id": "i0wPR4bbnC1Y"
      },
      "source": [
        "## Types of Logistic Regression\n",
        "\n",
        "Logistic Regression can be divided into types based on the type of classification it does.\n",
        "\n",
        "1. Binary Logistic Regression\n",
        "2. Multinomial Logistic Regression\n",
        "3. Ordinal Logistic Regression\n",
        " \n",
        "\n",
        "### Binary Logistic Regression\n",
        "\n",
        "Binary Logistic Regression is the most commonly used type. It is the type we already discussed when defining Logistic Regression. In this type, the dependent/target variable has two distinct values, either 0 or 1, malignant or benign, passed or failed, admitted or not admitted.\n",
        "\n",
        "\n",
        "### Multinomial Logistic Regression\n",
        "\n",
        "Multinomial Logistic Regression deals with cases when the target or independent variable has three or more possible values. For example, the use of Chest X-ray images as features that give indication about one of the three possible outcomes (No disease, Viral Pneumonia, COVID-19). The multinomial Logistic Regression will use the features to classify the example into one of the three possible outcomes in this case. There can of course be more than three possible values of the target variable.\n",
        "\n",
        "\n",
        "### Ordinal Logistic Regression\n",
        "\n",
        "Ordinal Logistic Regression is used in cases when the target variable is of ordinal nature. In this type, the categories are ordered in a meaningful manner and each category has quantitative significance. Moreover, the target variable has more than two categories. For example, the grades obtained on an exam have categories that have quantitative significance and they are ordered. Keeping it simple, the grades can be A, B, or C.\n",
        "\n",
        " "
      ]
    },
    {
      "cell_type": "markdown",
      "metadata": {
        "id": "5c9sq4A2b4rv"
      },
      "source": [
        "In logistic regression, we want our model to predict the probability of an observation belonging to a certain class or label. As such, we want a hypothesis h that satisfies the following condition 0 <= h(x) <= 1 , where x is an observation.\n",
        "We define h(x) = g(wᵀ* x) , where g is a sigmoid function and w are the trainable parameters. As such, we have:\n",
        "\n",
        "![image.png](data:image/png;base64,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)\n",
        "\n",
        "\n",
        "If the class label is y, the cost (error) associated with an observation x is given by:\n",
        "\n",
        "![image.png](data:image/png;base64,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)\n",
        "\n",
        "Cost Function: Thus, the total cost for all the m observations in a dataset is:\n",
        "\n",
        "![image.png](data:image/png;base64,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)\n"
      ]
    },
    {
      "cell_type": "code",
      "execution_count": null,
      "metadata": {
        "id": "9VO0W8r6d4O5"
      },
      "outputs": [],
      "source": [
        "import numpy as np\n",
        "import pandas as pd\n",
        "import matplotlib.pyplot as plt\n",
        "from sklearn.linear_model import LogisticRegression\n",
        "from sklearn.metrics import log_loss \n",
        "from sklearn.metrics import accuracy_score "
      ]
    },
    {
      "cell_type": "markdown",
      "metadata": {
        "id": "zsITJLuWlb0H"
      },
      "source": [
        "#Data\n",
        "Dataset contains scores of candidates for exam1 and exam2 and whether they got admission on the basis of them or not.\n"
      ]
    },
    {
      "cell_type": "code",
      "execution_count": null,
      "metadata": {
        "colab": {
          "base_uri": "https://localhost:8080/"
        },
        "id": "zMgryY1dd4e8",
        "outputId": "cf95197f-fe9c-4177-f5f1-5eeee25da045"
      },
      "outputs": [
        {
          "name": "stdout",
          "output_type": "stream",
          "text": [
            "--2022-03-03 11:41:32--  https://raw.githubusercontent.com/bmarroc/machine-learning/main/5/ex2data1.txt\n",
            "Resolving raw.githubusercontent.com (raw.githubusercontent.com)... 185.199.108.133, 185.199.109.133, 185.199.110.133, ...\n",
            "Connecting to raw.githubusercontent.com (raw.githubusercontent.com)|185.199.108.133|:443... connected.\n",
            "HTTP request sent, awaiting response... 200 OK\n",
            "Length: 3775 (3.7K) [text/plain]\n",
            "Saving to: ‘ex2data1.txt.3’\n",
            "\n",
            "\rex2data1.txt.3        0%[                    ]       0  --.-KB/s               \rex2data1.txt.3      100%[===================>]   3.69K  --.-KB/s    in 0s      \n",
            "\n",
            "2022-03-03 11:41:32 (42.6 MB/s) - ‘ex2data1.txt.3’ saved [3775/3775]\n",
            "\n"
          ]
        }
      ],
      "source": [
        "# data\n",
        "!wget https://raw.githubusercontent.com/bmarroc/machine-learning/main/5/ex2data1.txt"
      ]
    },
    {
      "cell_type": "code",
      "execution_count": null,
      "metadata": {
        "colab": {
          "base_uri": "https://localhost:8080/",
          "height": 424
        },
        "id": "vj_H7ZyijYuF",
        "outputId": "04d773ee-a943-4d15-e658-cb4267331762"
      },
      "outputs": [
        {
          "data": {
            "text/html": [
              "\n",
              "  <div id=\"df-d8ef468e-ba1c-445b-9bdd-34f60e1bd49c\">\n",
              "    <div class=\"colab-df-container\">\n",
              "      <div>\n",
              "<style scoped>\n",
              "    .dataframe tbody tr th:only-of-type {\n",
              "        vertical-align: middle;\n",
              "    }\n",
              "\n",
              "    .dataframe tbody tr th {\n",
              "        vertical-align: top;\n",
              "    }\n",
              "\n",
              "    .dataframe thead th {\n",
              "        text-align: right;\n",
              "    }\n",
              "</style>\n",
              "<table border=\"1\" class=\"dataframe\">\n",
              "  <thead>\n",
              "    <tr style=\"text-align: right;\">\n",
              "      <th></th>\n",
              "      <th>exam1_score</th>\n",
              "      <th>exam2_score</th>\n",
              "      <th>admitted</th>\n",
              "    </tr>\n",
              "  </thead>\n",
              "  <tbody>\n",
              "    <tr>\n",
              "      <th>0</th>\n",
              "      <td>34.623661</td>\n",
              "      <td>78.024696</td>\n",
              "      <td>0.0</td>\n",
              "    </tr>\n",
              "    <tr>\n",
              "      <th>1</th>\n",
              "      <td>30.286711</td>\n",
              "      <td>43.894997</td>\n",
              "      <td>0.0</td>\n",
              "    </tr>\n",
              "    <tr>\n",
              "      <th>2</th>\n",
              "      <td>35.847408</td>\n",
              "      <td>72.902199</td>\n",
              "      <td>0.0</td>\n",
              "    </tr>\n",
              "    <tr>\n",
              "      <th>3</th>\n",
              "      <td>60.182598</td>\n",
              "      <td>86.308556</td>\n",
              "      <td>1.0</td>\n",
              "    </tr>\n",
              "    <tr>\n",
              "      <th>4</th>\n",
              "      <td>79.032738</td>\n",
              "      <td>75.344376</td>\n",
              "      <td>1.0</td>\n",
              "    </tr>\n",
              "    <tr>\n",
              "      <th>...</th>\n",
              "      <td>...</td>\n",
              "      <td>...</td>\n",
              "      <td>...</td>\n",
              "    </tr>\n",
              "    <tr>\n",
              "      <th>95</th>\n",
              "      <td>83.489166</td>\n",
              "      <td>48.380287</td>\n",
              "      <td>1.0</td>\n",
              "    </tr>\n",
              "    <tr>\n",
              "      <th>96</th>\n",
              "      <td>42.261700</td>\n",
              "      <td>87.103851</td>\n",
              "      <td>1.0</td>\n",
              "    </tr>\n",
              "    <tr>\n",
              "      <th>97</th>\n",
              "      <td>99.315010</td>\n",
              "      <td>68.775406</td>\n",
              "      <td>1.0</td>\n",
              "    </tr>\n",
              "    <tr>\n",
              "      <th>98</th>\n",
              "      <td>55.340019</td>\n",
              "      <td>64.931938</td>\n",
              "      <td>1.0</td>\n",
              "    </tr>\n",
              "    <tr>\n",
              "      <th>99</th>\n",
              "      <td>74.775894</td>\n",
              "      <td>89.529816</td>\n",
              "      <td>1.0</td>\n",
              "    </tr>\n",
              "  </tbody>\n",
              "</table>\n",
              "<p>100 rows × 3 columns</p>\n",
              "</div>\n",
              "      <button class=\"colab-df-convert\" onclick=\"convertToInteractive('df-d8ef468e-ba1c-445b-9bdd-34f60e1bd49c')\"\n",
              "              title=\"Convert this dataframe to an interactive table.\"\n",
              "              style=\"display:none;\">\n",
              "        \n",
              "  <svg xmlns=\"http://www.w3.org/2000/svg\" height=\"24px\"viewBox=\"0 0 24 24\"\n",
              "       width=\"24px\">\n",
              "    <path d=\"M0 0h24v24H0V0z\" fill=\"none\"/>\n",
              "    <path d=\"M18.56 5.44l.94 2.06.94-2.06 2.06-.94-2.06-.94-.94-2.06-.94 2.06-2.06.94zm-11 1L8.5 8.5l.94-2.06 2.06-.94-2.06-.94L8.5 2.5l-.94 2.06-2.06.94zm10 10l.94 2.06.94-2.06 2.06-.94-2.06-.94-.94-2.06-.94 2.06-2.06.94z\"/><path d=\"M17.41 7.96l-1.37-1.37c-.4-.4-.92-.59-1.43-.59-.52 0-1.04.2-1.43.59L10.3 9.45l-7.72 7.72c-.78.78-.78 2.05 0 2.83L4 21.41c.39.39.9.59 1.41.59.51 0 1.02-.2 1.41-.59l7.78-7.78 2.81-2.81c.8-.78.8-2.07 0-2.86zM5.41 20L4 18.59l7.72-7.72 1.47 1.35L5.41 20z\"/>\n",
              "  </svg>\n",
              "      </button>\n",
              "      \n",
              "  <style>\n",
              "    .colab-df-container {\n",
              "      display:flex;\n",
              "      flex-wrap:wrap;\n",
              "      gap: 12px;\n",
              "    }\n",
              "\n",
              "    .colab-df-convert {\n",
              "      background-color: #E8F0FE;\n",
              "      border: none;\n",
              "      border-radius: 50%;\n",
              "      cursor: pointer;\n",
              "      display: none;\n",
              "      fill: #1967D2;\n",
              "      height: 32px;\n",
              "      padding: 0 0 0 0;\n",
              "      width: 32px;\n",
              "    }\n",
              "\n",
              "    .colab-df-convert:hover {\n",
              "      background-color: #E2EBFA;\n",
              "      box-shadow: 0px 1px 2px rgba(60, 64, 67, 0.3), 0px 1px 3px 1px rgba(60, 64, 67, 0.15);\n",
              "      fill: #174EA6;\n",
              "    }\n",
              "\n",
              "    [theme=dark] .colab-df-convert {\n",
              "      background-color: #3B4455;\n",
              "      fill: #D2E3FC;\n",
              "    }\n",
              "\n",
              "    [theme=dark] .colab-df-convert:hover {\n",
              "      background-color: #434B5C;\n",
              "      box-shadow: 0px 1px 3px 1px rgba(0, 0, 0, 0.15);\n",
              "      filter: drop-shadow(0px 1px 2px rgba(0, 0, 0, 0.3));\n",
              "      fill: #FFFFFF;\n",
              "    }\n",
              "  </style>\n",
              "\n",
              "      <script>\n",
              "        const buttonEl =\n",
              "          document.querySelector('#df-d8ef468e-ba1c-445b-9bdd-34f60e1bd49c button.colab-df-convert');\n",
              "        buttonEl.style.display =\n",
              "          google.colab.kernel.accessAllowed ? 'block' : 'none';\n",
              "\n",
              "        async function convertToInteractive(key) {\n",
              "          const element = document.querySelector('#df-d8ef468e-ba1c-445b-9bdd-34f60e1bd49c');\n",
              "          const dataTable =\n",
              "            await google.colab.kernel.invokeFunction('convertToInteractive',\n",
              "                                                     [key], {});\n",
              "          if (!dataTable) return;\n",
              "\n",
              "          const docLinkHtml = 'Like what you see? Visit the ' +\n",
              "            '<a target=\"_blank\" href=https://colab.research.google.com/notebooks/data_table.ipynb>data table notebook</a>'\n",
              "            + ' to learn more about interactive tables.';\n",
              "          element.innerHTML = '';\n",
              "          dataTable['output_type'] = 'display_data';\n",
              "          await google.colab.output.renderOutput(dataTable, element);\n",
              "          const docLink = document.createElement('div');\n",
              "          docLink.innerHTML = docLinkHtml;\n",
              "          element.appendChild(docLink);\n",
              "        }\n",
              "      </script>\n",
              "    </div>\n",
              "  </div>\n",
              "  "
            ],
            "text/plain": [
              "    exam1_score  exam2_score  admitted\n",
              "0     34.623661    78.024696       0.0\n",
              "1     30.286711    43.894997       0.0\n",
              "2     35.847408    72.902199       0.0\n",
              "3     60.182598    86.308556       1.0\n",
              "4     79.032738    75.344376       1.0\n",
              "..          ...          ...       ...\n",
              "95    83.489166    48.380287       1.0\n",
              "96    42.261700    87.103851       1.0\n",
              "97    99.315010    68.775406       1.0\n",
              "98    55.340019    64.931938       1.0\n",
              "99    74.775894    89.529816       1.0\n",
              "\n",
              "[100 rows x 3 columns]"
            ]
          },
          "execution_count": 36,
          "metadata": {},
          "output_type": "execute_result"
        }
      ],
      "source": [
        "data = pd.read_table('ex2data1.txt', sep=',', header=None, names=['exam1_score', 'exam2_score', 'admitted'], dtype=np.float32)\n",
        "data"
      ]
    },
    {
      "cell_type": "code",
      "execution_count": null,
      "metadata": {
        "id": "YhHfQHtCd4hr"
      },
      "outputs": [],
      "source": [
        "X_train = data.loc[:,['exam1_score','exam2_score']].values\n",
        "Y_train = data.loc[:,['admitted']].values"
      ]
    },
    {
      "cell_type": "code",
      "execution_count": null,
      "metadata": {
        "colab": {
          "base_uri": "https://localhost:8080/",
          "height": 623
        },
        "id": "GP0QAgRvd4kz",
        "outputId": "02f1a9e0-c7ad-46ee-d7d9-b22b2315c40a"
      },
      "outputs": [
        {
          "data": {
            "text/plain": [
              "<matplotlib.legend.Legend at 0x7fa6e9e8e390>"
            ]
          },
          "execution_count": 38,
          "metadata": {},
          "output_type": "execute_result"
        },
        {
          "data": {
            "image/png": "[encoded data removed]",
            "text/plain": [
              "<Figure size 720x720 with 1 Axes>"
            ]
          },
          "metadata": {
            "needs_background": "light"
          },
          "output_type": "display_data"
        }
      ],
      "source": [
        "# Plot data\n",
        "\n",
        "fig = plt.figure(figsize=(10, 10))\n",
        "ax = fig.add_subplot(1, 1, 1)\n",
        "\n",
        "ax.axis([np.min(X_train[:,0])-1., np.max(X_train[:,0])+1., np.min(X_train[:,1])-1., np.max(X_train[:,1])+1.])\n",
        "ax.set_xlabel('Exam 1 score')\n",
        "ax.set_ylabel('Exam 2 score')\n",
        "\n",
        "pos = np.where(Y_train[:,0] == 1)[0]\n",
        "neg = np.where(Y_train[:,0] == 0)[0]\n",
        "ax.plot(X_train[pos,0], X_train[pos,1], marker='.', color='#0F00FF', markersize=10, linestyle='', label='Admitted') \n",
        "ax.plot(X_train[neg,0], X_train[neg,1], marker='.', color='#FF00AE', markersize=10, linestyle='', label='Not Admitted')\n",
        "ax.legend()"
      ]
    },
    {
      "cell_type": "markdown",
      "metadata": {
        "id": "PERKPnTJjLpq"
      },
      "source": [
        "#Binary Logistic Regression\n",
        "We can use Scikit-Learn's LogisitcRegression estimator to fit this data and construct the best-fit line:\n",
        "https://scikit-learn.org/stable/modules/generated/sklearn.linear_model.LogisticRegression.html\n"
      ]
    },
    {
      "cell_type": "code",
      "execution_count": null,
      "metadata": {
        "colab": {
          "base_uri": "https://localhost:8080/"
        },
        "id": "ym2BFnEOd4se",
        "outputId": "56b47505-6659-41d6-fcda-9fa5bb32d2b0"
      },
      "outputs": [
        {
          "name": "stdout",
          "output_type": "stream",
          "text": [
            "Y_pred: [[9.08967022e-01 9.10329784e-02]\n",
            " [9.99957742e-01 4.22577447e-05]\n",
            " [9.56091685e-01 4.39083154e-02]\n",
            " [9.57523473e-03 9.90424765e-01]\n",
            " [1.80122424e-03 9.98198776e-01]\n",
            " [9.89202601e-01 1.07973992e-02]\n",
            " [1.02185038e-03 9.98978150e-01]\n",
            " [5.76773127e-01 4.23226873e-01]\n",
            " [2.89975510e-04 9.99710024e-01]\n",
            " [2.64610946e-01 7.35389054e-01]\n",
            " [9.03247784e-02 9.09675222e-01]\n",
            " [9.71403403e-01 2.85965969e-02]\n",
            " [7.29845807e-04 9.99270154e-01]\n",
            " [1.46052764e-04 9.99853947e-01]\n",
            " [8.43964274e-01 1.56035726e-01]\n",
            " [1.90405817e-02 9.80959418e-01]\n",
            " [5.72283270e-01 4.27716730e-01]\n",
            " [8.51211350e-01 1.48788650e-01]\n",
            " [2.93452625e-04 9.99706547e-01]\n",
            " [4.25718925e-01 5.74281075e-01]\n",
            " [9.33165356e-01 6.68346442e-02]\n",
            " [1.37273433e-03 9.98627266e-01]\n",
            " [9.92582070e-01 7.41792996e-03]\n",
            " [9.99898847e-01 1.01152815e-04]\n",
            " [8.12166064e-03 9.91878339e-01]\n",
            " [1.44951085e-01 8.55048915e-01]\n",
            " [3.99700778e-01 6.00299222e-01]\n",
            " [1.34814215e-01 8.65185785e-01]\n",
            " [9.07611218e-01 9.23887818e-02]\n",
            " [9.83171322e-01 1.68286776e-02]\n",
            " [1.02869132e-01 8.97130868e-01]\n",
            " [1.89624610e-02 9.81037539e-01]\n",
            " [8.45089964e-01 1.54910036e-01]\n",
            " [6.08062452e-01 3.91937548e-01]\n",
            " [9.25871830e-01 7.41281705e-02]\n",
            " [9.66889542e-01 3.31104577e-02]\n",
            " [1.47732542e-01 8.52267458e-01]\n",
            " [1.24356162e-02 9.87564384e-01]\n",
            " [7.96012562e-01 2.03987438e-01]\n",
            " [9.50420714e-01 4.95792857e-02]\n",
            " [2.96993438e-02 9.70300656e-01]\n",
            " [9.93881848e-01 6.11815235e-03]\n",
            " [5.38504866e-04 9.99461495e-01]\n",
            " [4.97714362e-01 5.02285638e-01]\n",
            " [9.95511361e-01 4.48863899e-03]\n",
            " [8.62976777e-01 1.37023223e-01]\n",
            " [7.00812808e-03 9.92991872e-01]\n",
            " [3.81911942e-06 9.99996181e-01]\n",
            " [7.95075498e-04 9.99204925e-01]\n",
            " [9.23896580e-06 9.99990761e-01]\n",
            " [1.89319314e-03 9.98106807e-01]\n",
            " [4.99501996e-04 9.99500498e-01]\n",
            " [9.49833327e-02 9.05016667e-01]\n",
            " [9.97193906e-01 2.80609355e-03]\n",
            " [9.91477397e-01 8.52260326e-03]\n",
            " [9.47109512e-01 5.28904880e-02]\n",
            " [1.43366520e-04 9.99856633e-01]\n",
            " [3.06293671e-01 6.93706329e-01]\n",
            " [1.45032228e-02 9.85496777e-01]\n",
            " [4.27134454e-03 9.95728655e-01]\n",
            " [4.68345438e-04 9.99531655e-01]\n",
            " [9.99777628e-01 2.22371542e-04]\n",
            " [9.96494644e-01 3.50535570e-03]\n",
            " [9.99872936e-01 1.27063570e-04]\n",
            " [9.28343945e-01 7.16560554e-02]\n",
            " [9.59124109e-01 4.08758912e-02]\n",
            " [5.55738839e-02 9.44426116e-01]\n",
            " [9.89929584e-01 1.00704162e-02]\n",
            " [4.75516917e-05 9.99952448e-01]\n",
            " [2.90699144e-01 7.09300856e-01]\n",
            " [9.99937962e-01 6.20378625e-05]\n",
            " [2.26037172e-02 9.77396283e-01]\n",
            " [1.06639645e-04 9.99893360e-01]\n",
            " [1.15723368e-01 8.84276632e-01]\n",
            " [9.47591780e-02 9.05240822e-01]\n",
            " [4.50944464e-05 9.99954906e-01]\n",
            " [8.23051538e-02 9.17694846e-01]\n",
            " [3.73256937e-01 6.26743063e-01]\n",
            " [9.84160028e-01 1.58399720e-02]\n",
            " [4.00530024e-01 5.99469976e-01]\n",
            " [7.17495637e-04 9.99282504e-01]\n",
            " [2.65281247e-02 9.73471875e-01]\n",
            " [1.05467443e-01 8.94532557e-01]\n",
            " [7.96808336e-01 2.03191664e-01]\n",
            " [5.89511486e-05 9.99941049e-01]\n",
            " [2.01749911e-03 9.97982501e-01]\n",
            " [6.45441622e-01 3.54558378e-01]\n",
            " [1.79968084e-04 9.99820032e-01]\n",
            " [2.67884471e-05 9.99973212e-01]\n",
            " [8.93041545e-01 1.06958455e-01]\n",
            " [5.60456523e-05 9.99943954e-01]\n",
            " [1.47746812e-05 9.99985225e-01]\n",
            " [9.98575741e-01 1.42425902e-03]\n",
            " [6.78248336e-04 9.99321752e-01]\n",
            " [7.54291872e-02 9.24570813e-01]\n",
            " [1.41360071e-01 8.58639929e-01]\n",
            " [2.49118892e-01 7.50881108e-01]\n",
            " [1.03391847e-04 9.99896608e-01]\n",
            " [6.60725563e-01 3.39274437e-01]\n",
            " [2.49063170e-04 9.99750937e-01]]\n"
          ]
        }
      ],
      "source": [
        "model = LogisticRegression(penalty='none', max_iter=500, solver='lbfgs')\n",
        "model.fit(X_train, Y_train.flatten())\n",
        "\n",
        "Y_pred = model.predict_proba(X_train)\n",
        "print(\"Y_pred:\",Y_pred)"
      ]
    },
    {
      "cell_type": "code",
      "execution_count": null,
      "metadata": {
        "colab": {
          "base_uri": "https://localhost:8080/"
        },
        "id": "XfA1gKgalo2M",
        "outputId": "e72ace8b-393c-47c4-d76e-ce4a2244d832"
      },
      "outputs": [
        {
          "name": "stdout",
          "output_type": "stream",
          "text": [
            "predicted label [0. 0. 0. 1. 1. 0. 1. 0. 1. 1. 1. 0. 1. 1. 0. 1. 0. 0. 1. 1. 0. 1. 0. 0.\n",
            " 1. 1. 1. 1. 0. 0. 1. 1. 0. 0. 0. 0. 1. 1. 0. 0. 1. 0. 1. 1. 0. 0. 1. 1.\n",
            " 1. 1. 1. 1. 1. 0. 0. 0. 1. 1. 1. 1. 1. 0. 0. 0. 0. 0. 1. 0. 1. 1. 0. 1.\n",
            " 1. 1. 1. 1. 1. 1. 0. 1. 1. 1. 1. 0. 1. 1. 0. 1. 1. 0. 1. 1. 0. 1. 1. 1.\n",
            " 1. 1. 0. 1.]\n"
          ]
        }
      ],
      "source": [
        "Y_pred_label = model.predict(X_train)\n",
        "print(\"predicted label\",Y_pred_label)"
      ]
    },
    {
      "cell_type": "markdown",
      "metadata": {
        "id": "Cf2HGXVXm7mD"
      },
      "source": [
        "Using Log loss, aka logistic loss or cross-entropy loss.\n",
        "\n",
        "https://scikit-learn.org/stable/modules/generated/sklearn.metrics.log_loss.html"
      ]
    },
    {
      "cell_type": "code",
      "execution_count": null,
      "metadata": {
        "colab": {
          "base_uri": "https://localhost:8080/"
        },
        "id": "m86bkBf2d4v_",
        "outputId": "9253507a-583a-4ece-d131-4bc541918d34"
      },
      "outputs": [
        {
          "data": {
            "text/plain": [
              "0.20349770729398992"
            ]
          },
          "execution_count": 41,
          "metadata": {},
          "output_type": "execute_result"
        }
      ],
      "source": [
        "log_loss(Y_train, Y_pred)"
      ]
    },
    {
      "cell_type": "code",
      "execution_count": null,
      "metadata": {
        "colab": {
          "base_uri": "https://localhost:8080/"
        },
        "id": "GA6r_gJlmXz4",
        "outputId": "07e387d8-5e2c-4f5b-cca4-ca8b7fdaf011"
      },
      "outputs": [
        {
          "data": {
            "text/plain": [
              "0.89"
            ]
          },
          "execution_count": 42,
          "metadata": {},
          "output_type": "execute_result"
        }
      ],
      "source": [
        "accuracy_score(Y_train, Y_pred_label)"
      ]
    },
    {
      "cell_type": "markdown",
      "metadata": {
        "id": "AdQgeaF_st-H"
      },
      "source": [
        "In this way, we can use the single ``LogisticRegression`` estimator to decide a proper fit to the decision boundary so that we will be able to predict which class a new data will correspond to. \n",
        "\n"
      ]
    },
    {
      "cell_type": "code",
      "execution_count": null,
      "metadata": {
        "colab": {
          "base_uri": "https://localhost:8080/",
          "height": 894
        },
        "id": "2Z3cifQLd41L",
        "outputId": "47c34761-a34c-4056-f80c-2d173a34fc26"
      },
      "outputs": [
        {
          "data": {
            "text/plain": [
              "<matplotlib.legend.Legend at 0x7fa6e7c7ab90>"
            ]
          },
          "execution_count": 43,
          "metadata": {},
          "output_type": "execute_result"
        },
        {
          "data": {
            "image/png": "[encoded data removed]",
            "text/plain": [
              "<Figure size 1080x1080 with 1 Axes>"
            ]
          },
          "metadata": {
            "needs_background": "light"
          },
          "output_type": "display_data"
        }
      ],
      "source": [
        "fig = plt.figure(figsize=(15, 15))\n",
        "ax = fig.add_subplot(1, 1, 1)\n",
        "ax.axis([np.min(X_train[:,0])-1., np.max(X_train[:,0])+1., np.min(X_train[:,1])-1., np.max(X_train[:,1])+1.])\n",
        "ax.set_xlabel('Exam 1 score')\n",
        "ax.set_ylabel('Exam 2 score')\n",
        "u = np.linspace(np.min(X_train[:,0])-1., np.max(X_train[:,0])+1., 100)\n",
        "v = np.linspace(np.min(X_train[:,1])-1., np.max(X_train[:,1])+1., 100)\n",
        "z = []\n",
        "for i in range(100):\n",
        "    for j in range(100):\n",
        "        z.append([u[i], v[j]])\n",
        "z = np.array(z)\n",
        "w = model.predict(z)\n",
        "model_pos = np.where(w == 1)[0]\n",
        "model_neg = np.where(w == 0)[0]\n",
        "ax.plot(z[model_pos,0], z[model_pos,1], marker='+', color='#C7C3FF', markersize=10, linestyle='')\n",
        "ax.plot(z[model_neg,0], z[model_neg,1], marker='+', color='#FFECFB', markersize=10, linestyle='')\n",
        "pos = np.where(Y_train[:,0] == 1)[0]\n",
        "neg = np.where(Y_train[:,0] == 0)[0]\n",
        "ax.plot(X_train[pos,0], X_train[pos,1], marker='.', color='#0F00FF', markersize=10, linestyle='', label='Admitted') \n",
        "ax.plot(X_train[neg,0], X_train[neg,1], marker='.', color='#FF00AE', markersize=10, linestyle='', label='Not Admitted')\n",
        "ax.legend()"
      ]
    },
    {
      "cell_type": "markdown",
      "metadata": {
        "id": "Jq1u1VbvRQkY"
      },
      "source": [
        "### Regularization\n",
        "\n",
        "Regularization is a technique to solve the problem of overfitting in a machine learning algorithm by penalizing the cost function. It does so by using an additional penalty term in the cost function.\n",
        "There are two types of regularization techniques:\n",
        "* Lasso or L1 Regularization\n",
        "* Ridge or L2 Regularization\n",
        "\n",
        "New cost function with L1 Regularization: \n",
        "$ J(w) = \\frac{1}{m}  \\sum_{i=1}^{m} Cost(h(x^{(i)}, y^{(i)})\t+ \\frac{\\lambda}{m} \\sum_{j=1}^{n}|w_j|$\n",
        "\n",
        "New cost function with L2 Regularization: $ J(w) = \\frac{1}{m}  \\sum_{i=1}^{m} Cost(h(x^{(i)}, y^{(i)})\t+ \\frac{\\lambda}{2m} \\sum_{j=1}^{n}w_j^2$\n",
        "\n",
        "\n",
        "λ is called the regularization parameter. It controls the trade-off between two goals: fitting the training data well vs keeping the params small to avoid overfitting.\n"
      ]
    },
    {
      "cell_type": "markdown",
      "metadata": {
        "id": "Wne-u-lGhIaG"
      },
      "source": [
        "## Example"
      ]
    },
    {
      "cell_type": "code",
      "execution_count": null,
      "metadata": {
        "id": "afIu0DEtd5C9"
      },
      "outputs": [],
      "source": [
        "import numpy as np\n",
        "import pandas as pd\n",
        "import matplotlib.pyplot as plt\n",
        "from sklearn.utils import shuffle\n",
        "from sklearn.linear_model import LogisticRegression\n",
        "from sklearn.preprocessing import PolynomialFeatures\n",
        "from sklearn.pipeline import Pipeline\n",
        "from sklearn.metrics import log_loss \n",
        "from sklearn.metrics import accuracy_score "
      ]
    },
    {
      "cell_type": "markdown",
      "metadata": {
        "id": "Z63-rOPGwq4L"
      },
      "source": [
        "###Data"
      ]
    },
    {
      "cell_type": "code",
      "execution_count": null,
      "metadata": {
        "colab": {
          "base_uri": "https://localhost:8080/"
        },
        "id": "1q8G28GTj6Dt",
        "outputId": "7aa92407-52d5-4718-d4af-8764e29f7e62"
      },
      "outputs": [
        {
          "name": "stdout",
          "output_type": "stream",
          "text": [
            "--2022-03-03 11:41:38--  https://raw.githubusercontent.com/bmarroc/machine-learning/main/8/ex2data2.txt\n",
            "Resolving raw.githubusercontent.com (raw.githubusercontent.com)... 185.199.110.133, 185.199.108.133, 185.199.109.133, ...\n",
            "Connecting to raw.githubusercontent.com (raw.githubusercontent.com)|185.199.110.133|:443... connected.\n",
            "HTTP request sent, awaiting response... 200 OK\n",
            "Length: 2233 (2.2K) [text/plain]\n",
            "Saving to: ‘ex2data2.txt.2’\n",
            "\n",
            "\rex2data2.txt.2        0%[                    ]       0  --.-KB/s               \rex2data2.txt.2      100%[===================>]   2.18K  --.-KB/s    in 0s      \n",
            "\n",
            "2022-03-03 11:41:38 (24.7 MB/s) - ‘ex2data2.txt.2’ saved [2233/2233]\n",
            "\n"
          ]
        }
      ],
      "source": [
        "!wget https://raw.githubusercontent.com/bmarroc/machine-learning/main/8/ex2data2.txt"
      ]
    },
    {
      "cell_type": "code",
      "execution_count": null,
      "metadata": {
        "colab": {
          "base_uri": "https://localhost:8080/",
          "height": 424
        },
        "id": "s-zQgaFvd5HH",
        "outputId": "62b13e65-312f-441b-d9c5-8699c6a7be00"
      },
      "outputs": [
        {
          "data": {
            "text/html": [
              "\n",
              "  <div id=\"df-c75d5b3c-da9e-4cd9-90d2-a606aa02b0cc\">\n",
              "    <div class=\"colab-df-container\">\n",
              "      <div>\n",
              "<style scoped>\n",
              "    .dataframe tbody tr th:only-of-type {\n",
              "        vertical-align: middle;\n",
              "    }\n",
              "\n",
              "    .dataframe tbody tr th {\n",
              "        vertical-align: top;\n",
              "    }\n",
              "\n",
              "    .dataframe thead th {\n",
              "        text-align: right;\n",
              "    }\n",
              "</style>\n",
              "<table border=\"1\" class=\"dataframe\">\n",
              "  <thead>\n",
              "    <tr style=\"text-align: right;\">\n",
              "      <th></th>\n",
              "      <th>microchip_test1</th>\n",
              "      <th>microchip_test2</th>\n",
              "      <th>accepted</th>\n",
              "    </tr>\n",
              "  </thead>\n",
              "  <tbody>\n",
              "    <tr>\n",
              "      <th>0</th>\n",
              "      <td>-0.092742</td>\n",
              "      <td>0.55336</td>\n",
              "      <td>1.0</td>\n",
              "    </tr>\n",
              "    <tr>\n",
              "      <th>1</th>\n",
              "      <td>-0.046659</td>\n",
              "      <td>-0.57968</td>\n",
              "      <td>0.0</td>\n",
              "    </tr>\n",
              "    <tr>\n",
              "      <th>2</th>\n",
              "      <td>0.057028</td>\n",
              "      <td>0.91886</td>\n",
              "      <td>0.0</td>\n",
              "    </tr>\n",
              "    <tr>\n",
              "      <th>3</th>\n",
              "      <td>0.149190</td>\n",
              "      <td>-0.57968</td>\n",
              "      <td>0.0</td>\n",
              "    </tr>\n",
              "    <tr>\n",
              "      <th>4</th>\n",
              "      <td>-0.081221</td>\n",
              "      <td>1.10890</td>\n",
              "      <td>0.0</td>\n",
              "    </tr>\n",
              "    <tr>\n",
              "      <th>...</th>\n",
              "      <td>...</td>\n",
              "      <td>...</td>\n",
              "      <td>...</td>\n",
              "    </tr>\n",
              "    <tr>\n",
              "      <th>113</th>\n",
              "      <td>0.851960</td>\n",
              "      <td>-0.36769</td>\n",
              "      <td>0.0</td>\n",
              "    </tr>\n",
              "    <tr>\n",
              "      <th>114</th>\n",
              "      <td>0.322000</td>\n",
              "      <td>0.69225</td>\n",
              "      <td>1.0</td>\n",
              "    </tr>\n",
              "    <tr>\n",
              "      <th>115</th>\n",
              "      <td>-0.438360</td>\n",
              "      <td>0.21711</td>\n",
              "      <td>1.0</td>\n",
              "    </tr>\n",
              "    <tr>\n",
              "      <th>116</th>\n",
              "      <td>-0.467170</td>\n",
              "      <td>-0.13377</td>\n",
              "      <td>0.0</td>\n",
              "    </tr>\n",
              "    <tr>\n",
              "      <th>117</th>\n",
              "      <td>0.396890</td>\n",
              "      <td>0.82383</td>\n",
              "      <td>0.0</td>\n",
              "    </tr>\n",
              "  </tbody>\n",
              "</table>\n",
              "<p>118 rows × 3 columns</p>\n",
              "</div>\n",
              "      <button class=\"colab-df-convert\" onclick=\"convertToInteractive('df-c75d5b3c-da9e-4cd9-90d2-a606aa02b0cc')\"\n",
              "              title=\"Convert this dataframe to an interactive table.\"\n",
              "              style=\"display:none;\">\n",
              "        \n",
              "  <svg xmlns=\"http://www.w3.org/2000/svg\" height=\"24px\"viewBox=\"0 0 24 24\"\n",
              "       width=\"24px\">\n",
              "    <path d=\"M0 0h24v24H0V0z\" fill=\"none\"/>\n",
              "    <path d=\"M18.56 5.44l.94 2.06.94-2.06 2.06-.94-2.06-.94-.94-2.06-.94 2.06-2.06.94zm-11 1L8.5 8.5l.94-2.06 2.06-.94-2.06-.94L8.5 2.5l-.94 2.06-2.06.94zm10 10l.94 2.06.94-2.06 2.06-.94-2.06-.94-.94-2.06-.94 2.06-2.06.94z\"/><path d=\"M17.41 7.96l-1.37-1.37c-.4-.4-.92-.59-1.43-.59-.52 0-1.04.2-1.43.59L10.3 9.45l-7.72 7.72c-.78.78-.78 2.05 0 2.83L4 21.41c.39.39.9.59 1.41.59.51 0 1.02-.2 1.41-.59l7.78-7.78 2.81-2.81c.8-.78.8-2.07 0-2.86zM5.41 20L4 18.59l7.72-7.72 1.47 1.35L5.41 20z\"/>\n",
              "  </svg>\n",
              "      </button>\n",
              "      \n",
              "  <style>\n",
              "    .colab-df-container {\n",
              "      display:flex;\n",
              "      flex-wrap:wrap;\n",
              "      gap: 12px;\n",
              "    }\n",
              "\n",
              "    .colab-df-convert {\n",
              "      background-color: #E8F0FE;\n",
              "      border: none;\n",
              "      border-radius: 50%;\n",
              "      cursor: pointer;\n",
              "      display: none;\n",
              "      fill: #1967D2;\n",
              "      height: 32px;\n",
              "      padding: 0 0 0 0;\n",
              "      width: 32px;\n",
              "    }\n",
              "\n",
              "    .colab-df-convert:hover {\n",
              "      background-color: #E2EBFA;\n",
              "      box-shadow: 0px 1px 2px rgba(60, 64, 67, 0.3), 0px 1px 3px 1px rgba(60, 64, 67, 0.15);\n",
              "      fill: #174EA6;\n",
              "    }\n",
              "\n",
              "    [theme=dark] .colab-df-convert {\n",
              "      background-color: #3B4455;\n",
              "      fill: #D2E3FC;\n",
              "    }\n",
              "\n",
              "    [theme=dark] .colab-df-convert:hover {\n",
              "      background-color: #434B5C;\n",
              "      box-shadow: 0px 1px 3px 1px rgba(0, 0, 0, 0.15);\n",
              "      filter: drop-shadow(0px 1px 2px rgba(0, 0, 0, 0.3));\n",
              "      fill: #FFFFFF;\n",
              "    }\n",
              "  </style>\n",
              "\n",
              "      <script>\n",
              "        const buttonEl =\n",
              "          document.querySelector('#df-c75d5b3c-da9e-4cd9-90d2-a606aa02b0cc button.colab-df-convert');\n",
              "        buttonEl.style.display =\n",
              "          google.colab.kernel.accessAllowed ? 'block' : 'none';\n",
              "\n",
              "        async function convertToInteractive(key) {\n",
              "          const element = document.querySelector('#df-c75d5b3c-da9e-4cd9-90d2-a606aa02b0cc');\n",
              "          const dataTable =\n",
              "            await google.colab.kernel.invokeFunction('convertToInteractive',\n",
              "                                                     [key], {});\n",
              "          if (!dataTable) return;\n",
              "\n",
              "          const docLinkHtml = 'Like what you see? Visit the ' +\n",
              "            '<a target=\"_blank\" href=https://colab.research.google.com/notebooks/data_table.ipynb>data table notebook</a>'\n",
              "            + ' to learn more about interactive tables.';\n",
              "          element.innerHTML = '';\n",
              "          dataTable['output_type'] = 'display_data';\n",
              "          await google.colab.output.renderOutput(dataTable, element);\n",
              "          const docLink = document.createElement('div');\n",
              "          docLink.innerHTML = docLinkHtml;\n",
              "          element.appendChild(docLink);\n",
              "        }\n",
              "      </script>\n",
              "    </div>\n",
              "  </div>\n",
              "  "
            ],
            "text/plain": [
              "     microchip_test1  microchip_test2  accepted\n",
              "0          -0.092742          0.55336       1.0\n",
              "1          -0.046659         -0.57968       0.0\n",
              "2           0.057028          0.91886       0.0\n",
              "3           0.149190         -0.57968       0.0\n",
              "4          -0.081221          1.10890       0.0\n",
              "..               ...              ...       ...\n",
              "113         0.851960         -0.36769       0.0\n",
              "114         0.322000          0.69225       1.0\n",
              "115        -0.438360          0.21711       1.0\n",
              "116        -0.467170         -0.13377       0.0\n",
              "117         0.396890          0.82383       0.0\n",
              "\n",
              "[118 rows x 3 columns]"
            ]
          },
          "execution_count": 46,
          "metadata": {},
          "output_type": "execute_result"
        }
      ],
      "source": [
        "data = pd.read_table('ex2data2.txt', sep=',', header=None, names=['microchip_test1', 'microchip_test2', 'accepted'], dtype=np.float32)\n",
        "data = shuffle(data).reset_index(drop=True)\n",
        "data"
      ]
    },
    {
      "cell_type": "code",
      "execution_count": null,
      "metadata": {
        "id": "lJ9CjB2Ud5Kw"
      },
      "outputs": [],
      "source": [
        "X_train = data.loc[:95,['microchip_test1', 'microchip_test2']].values\n",
        "Y_train = data.loc[:95,['accepted']].values\n",
        "\n",
        "X_test = data.loc[95:,['microchip_test1', 'microchip_test2']].values\n",
        "Y_test = data.loc[95:,['accepted']].values"
      ]
    },
    {
      "cell_type": "code",
      "execution_count": null,
      "metadata": {
        "colab": {
          "base_uri": "https://localhost:8080/",
          "height": 623
        },
        "id": "pDxw5vZCd5OJ",
        "outputId": "f33641c9-85bd-4136-dc28-3a9ba8dfdc07"
      },
      "outputs": [
        {
          "data": {
            "text/plain": [
              "<matplotlib.legend.Legend at 0x7fa6ea722f50>"
            ]
          },
          "execution_count": 48,
          "metadata": {},
          "output_type": "execute_result"
        },
        {
          "data": {
            "image/png": "[encoded data removed]",
            "text/plain": [
              "<Figure size 720x720 with 1 Axes>"
            ]
          },
          "metadata": {
            "needs_background": "light"
          },
          "output_type": "display_data"
        }
      ],
      "source": [
        "fig = plt.figure(figsize=(10, 10))\n",
        "ax = fig.add_subplot(1, 1, 1)\n",
        "ax.axis([np.min(X_train[:,0])-0.1, np.max(X_train[:,0])+0.1, np.min(X_train[:,1])-0.1, np.max(X_train[:,1])+0.1])\n",
        "ax.set_xlabel('Microchip Test 1')\n",
        "ax.set_ylabel('Microchip Test 2')\n",
        "pos = np.where(Y_train[:,0] == 1)[0]\n",
        "neg = np.where(Y_train[:,0] == 0)[0]\n",
        "ax.plot(X_train[pos,0], X_train[pos,1], marker='.', color='#0F00FF', markersize=10, linestyle='', label='Accepted') \n",
        "ax.plot(X_train[neg,0], X_train[neg,1], marker='.', color='#FF00AE', markersize=10, linestyle='', label='Not Accepted')\n",
        "ax.legend()"
      ]
    },
    {
      "cell_type": "markdown",
      "metadata": {
        "id": "xtNTHB9egq_e"
      },
      "source": [
        "### Without regularization:\n",
        "Having nonlinear relationships between variables is to transform the data according to basis functions.\n",
        "\n",
        "Let us consider degree-2 polynomial features of X1 and X2.\n",
        "Consider the following variables: X1, X1², X2, X2², X1*X2. Since the second-order terms are significant, we can’t fit a simple linear classification.\n",
        "Besides, the logistic model with higher terms performs better than the simple model, as shown further in the plot.\n",
        "To play a safe card, let’s try a logistic model with 6-th degree polynomials without any interaction terms.\n",
        "\n",
        "Source: https://scikit-learn.org/stable/modules/generated/sklearn.preprocessing.PolynomialFeatures.html\n"
      ]
    },
    {
      "cell_type": "code",
      "execution_count": null,
      "metadata": {
        "colab": {
          "base_uri": "https://localhost:8080/"
        },
        "id": "WQ_W70_ogBry",
        "outputId": "d74efbb0-973c-4b01-aa97-42f8714079be"
      },
      "outputs": [
        {
          "data": {
            "text/plain": [
              "Pipeline(steps=[('pf', PolynomialFeatures(degree=6, include_bias=False)),\n",
              "                ('lr',\n",
              "                 LogisticRegression(max_iter=10000, penalty='none',\n",
              "                                    solver='sag'))])"
            ]
          },
          "execution_count": 49,
          "metadata": {},
          "output_type": "execute_result"
        }
      ],
      "source": [
        "model = Pipeline([('pf', PolynomialFeatures(degree=6, include_bias=False)),\n",
        "                  ('lr', LogisticRegression(penalty='none', max_iter=10000, solver='sag'))])\n",
        "                  \n",
        "model.fit(X_train, Y_train.flatten()) "
      ]
    },
    {
      "cell_type": "code",
      "execution_count": null,
      "metadata": {
        "colab": {
          "base_uri": "https://localhost:8080/"
        },
        "id": "NVDJYOhMgGmA",
        "outputId": "922f6238-7e2e-4cbb-8370-df988243c034"
      },
      "outputs": [
        {
          "name": "stdout",
          "output_type": "stream",
          "text": [
            "0.24979576155887262\n",
            "0.6497014764410739\n"
          ]
        }
      ],
      "source": [
        "Y_pred = model.predict_proba(X_train)\n",
        "\n",
        "print(log_loss(Y_train, Y_pred))\n",
        "print(log_loss(Y_test, model.predict_proba(X_test)))"
      ]
    },
    {
      "cell_type": "code",
      "execution_count": null,
      "metadata": {
        "colab": {
          "base_uri": "https://localhost:8080/"
        },
        "id": "P1qEFcxzgGoh",
        "outputId": "11e542ae-52b9-4fd4-e3c5-84f499e5853c"
      },
      "outputs": [
        {
          "name": "stdout",
          "output_type": "stream",
          "text": [
            "0.8958333333333334\n",
            "0.782608695652174\n"
          ]
        }
      ],
      "source": [
        "Y_pred_label = model.predict(X_train)\n",
        "\n",
        "print(accuracy_score(Y_train, Y_pred_label))\n",
        "print(accuracy_score(Y_test, model.predict(X_test)))"
      ]
    },
    {
      "cell_type": "code",
      "execution_count": null,
      "metadata": {
        "colab": {
          "base_uri": "https://localhost:8080/",
          "height": 623
        },
        "id": "SCDhwb--gGrN",
        "outputId": "d9bb80a4-bdf9-48ac-8003-3abcd76d2bc9"
      },
      "outputs": [
        {
          "data": {
            "text/plain": [
              "<matplotlib.legend.Legend at 0x7fa6e7ad5890>"
            ]
          },
          "execution_count": 52,
          "metadata": {},
          "output_type": "execute_result"
        },
        {
          "data": {
            "image/png": "[encoded data removed]",
            "text/plain": [
              "<Figure size 720x720 with 1 Axes>"
            ]
          },
          "metadata": {
            "needs_background": "light"
          },
          "output_type": "display_data"
        }
      ],
      "source": [
        "fig = plt.figure(figsize=(10, 10))\n",
        "ax = fig.add_subplot(1, 1, 1)\n",
        "ax.axis([np.min(X_train[:,0])-0.1, np.max(X_train[:,0])+0.1, np.min(X_train[:,1])-0.1, np.max(X_train[:,1])+0.1])\n",
        "ax.set_xlabel('Exam 1 score')\n",
        "ax.set_ylabel('Exam 2 score')\n",
        "u = np.linspace(np.min(X_train[:,0])-0.1, np.max(X_train[:,0])+0.1, 100)\n",
        "v = np.linspace(np.min(X_train[:,1])-0.1, np.max(X_train[:,1])+0.1, 100)\n",
        "z = []\n",
        "for i in range(100):\n",
        "    for j in range(100):\n",
        "        z.append([u[i], v[j]])\n",
        "z = np.array(z)\n",
        "w = model.predict(z)\n",
        "model_pos = np.where(w == 1)[0]\n",
        "model_neg = np.where(w == 0)[0]\n",
        "ax.plot(z[model_pos,0], z[model_pos,1], marker='+', color='#C7C3FF', markersize=10, linestyle='')\n",
        "ax.plot(z[model_neg,0], z[model_neg,1], marker='+', color='#FFECFB', markersize=10, linestyle='')\n",
        "pos = np.where(Y_train[:,0] == 1)[0]\n",
        "neg = np.where(Y_train[:,0] == 0)[0]\n",
        "ax.plot(X_train[pos,0], X_train[pos,1], marker='.', color='#0F00FF', markersize=10, linestyle='', label='Accepted') \n",
        "ax.plot(X_train[neg,0], X_train[neg,1], marker='.', color='#FF00AE', markersize=10, linestyle='', label='Not Accepted')\n",
        "ax.legend()"
      ]
    },
    {
      "cell_type": "markdown",
      "metadata": {
        "id": "RPQtbmthgxrg"
      },
      "source": [
        "### With Regularization\n",
        "\n",
        "Modifying the error function so that model complexity is also explicitly penalized. Here we have shown an example of how L2 norm is helping generalise the model. "
      ]
    },
    {
      "cell_type": "code",
      "execution_count": null,
      "metadata": {
        "colab": {
          "base_uri": "https://localhost:8080/"
        },
        "id": "wx86buG5gGu2",
        "outputId": "c54ce5fc-1bcf-4178-dcd1-6c579190b042"
      },
      "outputs": [
        {
          "data": {
            "text/plain": [
              "Pipeline(steps=[('pf', PolynomialFeatures(degree=6, include_bias=False)),\n",
              "                ('lr', LogisticRegression(max_iter=10000, solver='sag'))])"
            ]
          },
          "execution_count": 53,
          "metadata": {},
          "output_type": "execute_result"
        }
      ],
      "source": [
        "model = Pipeline([('pf', PolynomialFeatures(degree=6, include_bias=False)),\n",
        "                  ('lr', LogisticRegression(penalty='l2', C=1/1., max_iter=10000, solver='sag'))])\n",
        "                  \n",
        "model.fit(X_train, Y_train.flatten()) "
      ]
    },
    {
      "cell_type": "code",
      "execution_count": null,
      "metadata": {
        "colab": {
          "base_uri": "https://localhost:8080/"
        },
        "id": "gVvbDfFYgGx5",
        "outputId": "cac53d8b-033c-4be4-c1e5-412a5f139ea4"
      },
      "outputs": [
        {
          "name": "stdout",
          "output_type": "stream",
          "text": [
            "0.47664939881845686\n",
            "0.47451124850498594\n"
          ]
        }
      ],
      "source": [
        "Y_pred = model.predict_proba(X_train)\n",
        "\n",
        "print(log_loss(Y_train, Y_pred))\n",
        "print(log_loss(Y_test, model.predict_proba(X_test)))"
      ]
    },
    {
      "cell_type": "code",
      "execution_count": null,
      "metadata": {
        "colab": {
          "base_uri": "https://localhost:8080/"
        },
        "id": "qAq28x4vgG2l",
        "outputId": "02ea3e0d-efe1-4810-d76b-443f8eb56433"
      },
      "outputs": [
        {
          "name": "stdout",
          "output_type": "stream",
          "text": [
            "0.8645833333333334\n",
            "0.782608695652174\n"
          ]
        }
      ],
      "source": [
        "Y_pred_label = model.predict(X_train)\n",
        "\n",
        "print(accuracy_score(Y_train, Y_pred_label))\n",
        "print(accuracy_score(Y_test, model.predict(X_test)))"
      ]
    },
    {
      "cell_type": "code",
      "execution_count": null,
      "metadata": {
        "colab": {
          "base_uri": "https://localhost:8080/",
          "height": 623
        },
        "id": "GFxRwow2gBut",
        "outputId": "76f2f450-b851-43c9-ea04-54f122b52552"
      },
      "outputs": [
        {
          "data": {
            "text/plain": [
              "<matplotlib.legend.Legend at 0x7fa6ea5c6c90>"
            ]
          },
          "execution_count": 56,
          "metadata": {},
          "output_type": "execute_result"
        },
        {
          "data": {
            "image/png": "[encoded data removed]",
            "text/plain": [
              "<Figure size 720x720 with 1 Axes>"
            ]
          },
          "metadata": {
            "needs_background": "light"
          },
          "output_type": "display_data"
        }
      ],
      "source": [
        "fig = plt.figure(figsize=(10, 10))\n",
        "ax = fig.add_subplot(1, 1, 1)\n",
        "ax.axis([np.min(X_train[:,0])-0.1, np.max(X_train[:,0])+0.1, np.min(X_train[:,1])-0.1, np.max(X_train[:,1])+0.1])\n",
        "ax.set_xlabel('Exam 1 score')\n",
        "ax.set_ylabel('Exam 2 score')\n",
        "u = np.linspace(np.min(X_train[:,0])-0.1, np.max(X_train[:,0])+0.1, 100)\n",
        "v = np.linspace(np.min(X_train[:,1])-0.1, np.max(X_train[:,1])+0.1, 100)\n",
        "z = []\n",
        "for i in range(100):\n",
        "    for j in range(100):\n",
        "        z.append([u[i], v[j]])\n",
        "z = np.array(z)\n",
        "w = model.predict(z)\n",
        "model_pos = np.where(w == 1)[0]\n",
        "model_neg = np.where(w == 0)[0]\n",
        "ax.plot(z[model_pos,0], z[model_pos,1], marker='+', color='#C7C3FF', markersize=10, linestyle='')\n",
        "ax.plot(z[model_neg,0], z[model_neg,1], marker='+', color='#FFECFB', markersize=10, linestyle='')\n",
        "pos = np.where(Y_train[:,0] == 1)[0]\n",
        "neg = np.where(Y_train[:,0] == 0)[0]\n",
        "ax.plot(X_train[pos,0], X_train[pos,1], marker='.', color='#0F00FF', markersize=10, linestyle='', label='Accepted') \n",
        "ax.plot(X_train[neg,0], X_train[neg,1], marker='.', color='#FF00AE', markersize=10, linestyle='', label='Not Accepted')\n",
        "ax.legend()"
      ]
    }
  ],
  "metadata": {
    "colab": {
      "collapsed_sections": [],
      "provenance": [],
      "include_colab_link": true
    },
    "kernelspec": {
      "display_name": "Python 3",
      "name": "python3"
    },
    "language_info": {
      "name": "python"
    }
  },
  "nbformat": 4,
  "nbformat_minor": 0
}