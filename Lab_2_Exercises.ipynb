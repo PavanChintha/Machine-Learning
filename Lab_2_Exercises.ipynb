{
  "cells": [
    {
      "cell_type": "markdown",
      "metadata": {
        "id": "view-in-github",
        "colab_type": "text"
      },
      "source": [
        "<a href=\"https://colab.research.google.com/github/PavanChintha/Machine-Learning/blob/main/Lab_2_Exercises.ipynb\" target=\"_parent\"><img src=\"https://colab.research.google.com/assets/colab-badge.svg\" alt=\"Open In Colab\"/></a>"
      ]
    },
    {
      "cell_type": "markdown",
      "metadata": {
        "id": "chcMMiJKcqyJ"
      },
      "source": [
        "# **19CSE305: MACHINE LEARNING LAB 2**"
      ]
    },
    {
      "cell_type": "code",
      "source": [
        "p=int(input(\"principle \"))\n",
        "t=int(input(\"time \"))\n",
        "r=int(input(\"rate \"))\n",
        "\n",
        "a=p*(1+(r/100))**t\n",
        "CI=a-P\n",
        "print(CI)"
      ],
      "metadata": {
        "colab": {
          "base_uri": "https://localhost:8080/"
        },
        "id": "IdC-Q3G7gqhk",
        "outputId": "0a9e3f11-31f9-4073-c8b4-bcda14cbfa3b"
      },
      "execution_count": 5,
      "outputs": [
        {
          "output_type": "stream",
          "name": "stdout",
          "text": [
            "principle 1000\n",
            "time 1\n",
            "rate 5\n",
            "50.0\n"
          ]
        }
      ]
    },
    {
      "cell_type": "code",
      "source": [
        "lst = []\n",
        "n = int(input(\"no.of strings \"))\n",
        "for i in range(0,n):\n",
        "  st = input()\n",
        "  lst.append(st)\n",
        "\n",
        "word=input(\"enter word\")\n",
        "count=lst.count(word)\n",
        "l=len(lst)\n",
        "per = (count/l)*100\n",
        "print(per)\n"
      ],
      "metadata": {
        "colab": {
          "base_uri": "https://localhost:8080/"
        },
        "id": "GAJT6_V6i9d7",
        "outputId": "c9082c78-ca9a-4561-c450-2330408680e0"
      },
      "execution_count": 7,
      "outputs": [
        {
          "output_type": "stream",
          "name": "stdout",
          "text": [
            "no.of strings 5\n",
            "hello\n",
            "hello\n",
            "hello\n",
            "hello\n",
            "hey\n",
            "enter wordhello\n",
            "80.0\n"
          ]
        }
      ]
    },
    {
      "cell_type": "code",
      "source": [
        "\n",
        "def isPalindrome(s):\n",
        "    return s == s[::-1]\n",
        "n=int(input(\"number\"))\n",
        "bi = str(bin(n))\n",
        "\n",
        "print(isPalindrome(bi))\n",
        "\n"
      ],
      "metadata": {
        "colab": {
          "base_uri": "https://localhost:8080/"
        },
        "id": "byLYEQcplu_u",
        "outputId": "544b6332-fc7e-4dd9-fa5c-d444ee67f514"
      },
      "execution_count": 16,
      "outputs": [
        {
          "output_type": "stream",
          "name": "stdout",
          "text": [
            "number0\n",
            "True\n"
          ]
        }
      ]
    },
    {
      "cell_type": "code",
      "source": [
        "import sys\n",
        "n = int(input(\"enter number\"))\n",
        "temp = n\n",
        "while(temp>0):\n",
        "  dig = temp % 10 \n",
        "  if((dig!=0 and n%dig==0)==False):\n",
        "    print(\"False\")\n",
        "    sys.exit()\n",
        "  temp = temp // 10\n",
        "print(\"True\") \n",
        "    "
      ],
      "metadata": {
        "colab": {
          "base_uri": "https://localhost:8080/"
        },
        "id": "JBOHS2fAqFVr",
        "outputId": "0cddea4c-8fb6-4276-b794-1394d1c22abe"
      },
      "execution_count": 1,
      "outputs": [
        {
          "output_type": "stream",
          "name": "stdout",
          "text": [
            "enter number128\n",
            "True\n"
          ]
        }
      ]
    },
    {
      "cell_type": "code",
      "source": [
        "lst = []\n",
        "n = int(input(\"no.of numbers \"))\n",
        "for i in range(0,n):\n",
        "  st = int(input())\n",
        "  lst.append(st)\n",
        "print(sorted(lst)[-2])"
      ],
      "metadata": {
        "colab": {
          "base_uri": "https://localhost:8080/"
        },
        "id": "FUzqpyawpJrp",
        "outputId": "6c09db60-6a0a-41ed-8991-aceeaec93a66"
      },
      "execution_count": 15,
      "outputs": [
        {
          "output_type": "stream",
          "name": "stdout",
          "text": [
            "no.of numbers 5\n",
            "10\n",
            "20\n",
            "50\n",
            "40\n",
            "30\n",
            "40\n"
          ]
        }
      ]
    },
    {
      "cell_type": "markdown",
      "metadata": {
        "id": "0Q-TStVVdFaA"
      },
      "source": [
        "ROLL NUMBER: "
      ]
    },
    {
      "cell_type": "markdown",
      "metadata": {
        "id": "-7EeRdSAGbw3"
      },
      "source": [
        "## Python Basic Exercises\n",
        "\n",
        "1. Get the values P,t,R from user and calculate compound interest. Formula to calculate compound interest annually is given by: \n",
        "        A = P(1+R/100)*t\n",
        "        CI = A – P\n",
        "        Input : Principle, Time, Rate\n",
        "        Output : Compound Interest\n",
        "2. Given a list of strings (Entered by the user), write program to get a percentage share of each word in the strings list.\n",
        "        percentage = (Occurrence of a word / Total words) * 100\n",
        "3. Check if  the binary representation of a number is Palindrome or not. Given an integer ‘n’ (entered by the user), write a Python function that returns true if binary representation of 'x' is palindrome and false if not.\n",
        "4. Write a program to check if all digits of a number divide it. Given a number n (entered by the user), find whether all digits of n divide it or not.\n",
        "5. Given a list of numbers (entered by the user), write a program to find the second largest number in that list.\n",
        "        Input: [1, 2, 3, 4 ,5]\n",
        "        Output: 4"
      ]
    },
    {
      "cell_type": "code",
      "source": [],
      "metadata": {
        "id": "YNREfCSUpBlj"
      },
      "execution_count": null,
      "outputs": []
    },
    {
      "cell_type": "code",
      "source": [],
      "metadata": {
        "id": "9FNr8LlFgo2_"
      },
      "execution_count": null,
      "outputs": []
    },
    {
      "cell_type": "markdown",
      "source": [
        "## Numpy Basic Exercises\n",
        "\n",
        "1. Create a 3D array of shape 4*5*2 that contains random decimal numbers between 1 and 10.\n",
        "2. Create a randomly created 1D array and Convert it to a 2D array with 2 rows.\n",
        "3. Given a NumPy array of temperature values, convert the values of Centigrade degrees into Fahrenheit degrees. \n",
        "4. Write a NumPy program to count the number of dimensions, number of elements and number of bytes for each element in a given array.\n",
        "5. Write a NumPy program to extract third and second elements of the first and second rows from a given (3x4) array"
      ],
      "metadata": {
        "id": "Q3Ba9vORIPW4"
      }
    }
  ],
  "metadata": {
    "colab": {
      "collapsed_sections": [],
      "provenance": [],
      "toc_visible": true,
      "include_colab_link": true
    },
    "kernelspec": {
      "display_name": "Python 3",
      "name": "python3"
    },
    "language_info": {
      "name": "python"
    }
  },
  "nbformat": 4,
  "nbformat_minor": 0
}