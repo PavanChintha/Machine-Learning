{
  "nbformat": 4,
  "nbformat_minor": 0,
  "metadata": {
    "colab": {
      "provenance": [],
      "collapsed_sections": [],
      "include_colab_link": true
    },
    "kernelspec": {
      "name": "python3",
      "display_name": "Python 3"
    },
    "language_info": {
      "name": "python"
    }
  },
  "cells": [
    {
      "cell_type": "markdown",
      "metadata": {
        "id": "view-in-github",
        "colab_type": "text"
      },
      "source": [
        "<a href=\"https://colab.research.google.com/github/PavanChintha/Machine-Learning/blob/main/fods.ipynb\" target=\"_parent\"><img src=\"https://colab.research.google.com/assets/colab-badge.svg\" alt=\"Open In Colab\"/></a>"
      ]
    },
    {
      "cell_type": "markdown",
      "source": [
        "Assignment 1 (FODS)\n",
        "\n",
        "Name : Chintha Pavan\n",
        "\n",
        "Roll No : CB.EN.U4CSE20312\n"
      ],
      "metadata": {
        "id": "bYyeJL17xPSO"
      }
    },
    {
      "cell_type": "code",
      "execution_count": 3,
      "metadata": {
        "id": "Beqwp2c9uZpp",
        "colab": {
          "base_uri": "https://localhost:8080/"
        },
        "outputId": "b7bf16b2-7a85-451f-a396-bce5d1cb3131"
      },
      "outputs": [
        {
          "output_type": "stream",
          "name": "stdout",
          "text": [
            "(400.4, 777, 'aman', '222')\n"
          ]
        }
      ],
      "source": [
        "#Q1 \n",
        "s = {\"aman\", \"222\", 777, 400.4}\n",
        "t = tuple(s)\n",
        "print(t)"
      ]
    },
    {
      "cell_type": "code",
      "source": [
        "#Q2 \n",
        "dicti = {'Roll.no':'CB.EN.U4CSE20312', 'Lastname':'Pavan', 'Firstname':'Chintha', 'D.O.B':'05-10-2002'}\n",
        "print(dicti.keys())\n",
        "print(dicti.values())"
      ],
      "metadata": {
        "colab": {
          "base_uri": "https://localhost:8080/"
        },
        "id": "kH2s-3iD2FKh",
        "outputId": "527c0e72-df90-4760-a74f-865dead9c335"
      },
      "execution_count": 4,
      "outputs": [
        {
          "output_type": "stream",
          "name": "stdout",
          "text": [
            "dict_keys(['Roll.no', 'Lastname', 'Firstname', 'D.O.B'])\n",
            "dict_values(['CB.EN.U4CSE20312', 'Pavan', 'Chintha', '05-10-2002'])\n"
          ]
        }
      ]
    },
    {
      "cell_type": "code",
      "source": [
        "#Q3 \n",
        "import numpy as np\n",
        "np.random.seed(20)\n",
        "rdarr = np.random.randint(0,20,size=(2,2))\n",
        "print(rdarr)\n"
      ],
      "metadata": {
        "colab": {
          "base_uri": "https://localhost:8080/"
        },
        "id": "ndAlCZ-b3l7e",
        "outputId": "08bbe742-6cbe-459e-983b-1eb348cbb64f"
      },
      "execution_count": 6,
      "outputs": [
        {
          "output_type": "stream",
          "name": "stdout",
          "text": [
            "[[ 3 15]\n",
            " [ 9 11]]\n"
          ]
        }
      ]
    },
    {
      "cell_type": "code",
      "source": [
        "#Q4\n",
        "import random\n",
        "print(random.uniform(0.0,0.1))\n",
        "print('abs val of (-1234) =', abs(-1234))"
      ],
      "metadata": {
        "colab": {
          "base_uri": "https://localhost:8080/"
        },
        "id": "v8ycKnc064FM",
        "outputId": "774615f4-f32c-40d8-92dd-c796afb8694a"
      },
      "execution_count": 8,
      "outputs": [
        {
          "output_type": "stream",
          "name": "stdout",
          "text": [
            "0.07114681190140716\n",
            "abs val of (-1234) = 1234\n"
          ]
        }
      ]
    },
    {
      "cell_type": "code",
      "source": [
        "#Q5 \n",
        "np.random.seed(20)\n",
        "print('N = ',np.random.randint(20,90))"
      ],
      "metadata": {
        "colab": {
          "base_uri": "https://localhost:8080/"
        },
        "id": "VV3fdqMv7wCH",
        "outputId": "7d3cd339-f06e-4cdc-eb58-4034c868dc0d"
      },
      "execution_count": 11,
      "outputs": [
        {
          "output_type": "stream",
          "name": "stdout",
          "text": [
            "N =  35\n"
          ]
        }
      ]
    },
    {
      "cell_type": "code",
      "source": [
        "#Q6 \n",
        "popset = {11,12,13,14,15}\n",
        "li = list(popset)\n",
        "print(li[:3])\n",
        "random.shuffle(li)\n",
        "print(li)\n",
        "print('Random num = ',random.choice(li))"
      ],
      "metadata": {
        "colab": {
          "base_uri": "https://localhost:8080/"
        },
        "id": "7KmJEs7a8YVj",
        "outputId": "a72d5a25-4c4f-4275-ed87-31732a095ca6"
      },
      "execution_count": 13,
      "outputs": [
        {
          "output_type": "stream",
          "name": "stdout",
          "text": [
            "[11, 12, 13]\n",
            "[11, 15, 13, 12, 14]\n",
            "Random num =  12\n"
          ]
        }
      ]
    },
    {
      "cell_type": "code",
      "source": [
        "#Q7 \n",
        "filei = open('/content/q7.txt','r')\n",
        "print(filei.read())"
      ],
      "metadata": {
        "colab": {
          "base_uri": "https://localhost:8080/"
        },
        "id": "3WVMehnI-ni2",
        "outputId": "067b0a90-2002-40d6-ad65-e744dcc538ea"
      },
      "execution_count": 16,
      "outputs": [
        {
          "output_type": "stream",
          "name": "stdout",
          "text": [
            "The King is Dead, Long Live The King\n"
          ]
        }
      ]
    },
    {
      "cell_type": "code",
      "source": [
        "#Q8 \n",
        "print('Enter n: ')\n",
        "n = int(input())\n",
        "\n",
        "def aque(n):\n",
        "  if(n>0):\n",
        "    print('n is positive')\n",
        "  elif(n==0):\n",
        "    print('n is zero')\n",
        "  else:\n",
        "    print('n is negative')\n",
        "aque(n)\n",
        "arr = np.array([2,3,5,7,9])\n",
        "def evensearch(arr):\n",
        "  for i in arr:\n",
        "    if(i %2 == 0):\n",
        "      print(\"even number found\", i)\n",
        "      break\n",
        "    else:\n",
        "      continue\n",
        "evensearch(arr)\n",
        "\n"
      ],
      "metadata": {
        "colab": {
          "base_uri": "https://localhost:8080/"
        },
        "id": "qW0IB5jBB71b",
        "outputId": "6a93e1df-ce61-4325-f534-2f76d1fe2d0c"
      },
      "execution_count": 23,
      "outputs": [
        {
          "output_type": "stream",
          "name": "stdout",
          "text": [
            "Enter n: \n",
            "6\n",
            "n is positive\n",
            "even number found 2\n"
          ]
        }
      ]
    },
    {
      "cell_type": "code",
      "source": [
        "#Q9 \n",
        "string = \"The King is Dead, Long Live The King\"\n",
        "print(string)\n",
        "print(string[0])\n",
        "print(string[3:5])\n",
        "print(string[3:])\n",
        "print(string.split())"
      ],
      "metadata": {
        "colab": {
          "base_uri": "https://localhost:8080/"
        },
        "id": "UGOe8APtMXdC",
        "outputId": "19ad3c44-4f84-4358-baef-6c52e0beaa00"
      },
      "execution_count": 22,
      "outputs": [
        {
          "output_type": "stream",
          "name": "stdout",
          "text": [
            "The King is Dead, Long Live The King\n",
            "T\n",
            " K\n",
            " King is Dead, Long Live The King\n",
            "['The', 'King', 'is', 'Dead,', 'Long', 'Live', 'The', 'King']\n"
          ]
        }
      ]
    },
    {
      "cell_type": "code",
      "source": [
        "#Q10 \n",
        "ls = [1.0,4,5,8]\n",
        "arr = np.array(ls)\n",
        "print(arr)\n",
        "print(arr[0:2])"
      ],
      "metadata": {
        "colab": {
          "base_uri": "https://localhost:8080/"
        },
        "id": "Ht4vM_ukO7z5",
        "outputId": "0b0ac0e7-113c-4aa5-921c-b2ac94a22e77"
      },
      "execution_count": 24,
      "outputs": [
        {
          "output_type": "stream",
          "name": "stdout",
          "text": [
            "[1. 4. 5. 8.]\n",
            "[1. 4.]\n"
          ]
        }
      ]
    },
    {
      "cell_type": "code",
      "source": [
        "#Q11 \n",
        "arr = np.array([[1,2,3],[4,5,6]])\n",
        "print(arr)"
      ],
      "metadata": {
        "colab": {
          "base_uri": "https://localhost:8080/"
        },
        "id": "RmIFH6n2R8jE",
        "outputId": "69cbaf7f-fac3-487b-d552-f7c8bd3aa2d8"
      },
      "execution_count": 25,
      "outputs": [
        {
          "output_type": "stream",
          "name": "stdout",
          "text": [
            "[[1 2 3]\n",
            " [4 5 6]]\n"
          ]
        }
      ]
    },
    {
      "cell_type": "code",
      "source": [
        "#Q12 \n",
        "arr = np.array([[1,2,3],[4,5,6]],dtype=float)\n",
        "print(arr)\n",
        "print('2nd row of 2D arr')\n",
        "print(arr[1::])\n",
        "print(arr[0:2,1])\n",
        "print('Length =',len(arr))"
      ],
      "metadata": {
        "colab": {
          "base_uri": "https://localhost:8080/"
        },
        "id": "bmztI8S-THOi",
        "outputId": "1538320e-b501-44fb-8640-545163398d97"
      },
      "execution_count": 26,
      "outputs": [
        {
          "output_type": "stream",
          "name": "stdout",
          "text": [
            "[[1. 2. 3.]\n",
            " [4. 5. 6.]]\n",
            "2nd row of 2D arr\n",
            "[[4. 5. 6.]]\n",
            "[2. 5.]\n",
            "Length = 2\n"
          ]
        }
      ]
    },
    {
      "cell_type": "code",
      "source": [
        "#Q13 \n",
        "ls = [1,2,3,4,5,6,7,8,9,10]\n",
        "arr = np.array(ls)\n",
        "narr = arr.reshape(5,2)\n",
        "print(narr)\n",
        "print('Transpose =',narr.transpose())"
      ],
      "metadata": {
        "id": "PtEC1W-vUtaQ",
        "colab": {
          "base_uri": "https://localhost:8080/"
        },
        "outputId": "e9b164b6-2d76-4235-f5c4-a3447a7f2fd9"
      },
      "execution_count": 28,
      "outputs": [
        {
          "output_type": "stream",
          "name": "stdout",
          "text": [
            "[[ 1  2]\n",
            " [ 3  4]\n",
            " [ 5  6]\n",
            " [ 7  8]\n",
            " [ 9 10]]\n",
            "Transpose = [[ 1  3  5  7  9]\n",
            " [ 2  4  6  8 10]]\n"
          ]
        }
      ]
    },
    {
      "cell_type": "code",
      "source": [
        "#Q14 \n",
        "import numpy as np\n",
        "ls = [1,2,3]\n",
        "arr = np.array(ls)\n",
        "print('Array  =',arr)"
      ],
      "metadata": {
        "colab": {
          "base_uri": "https://localhost:8080/"
        },
        "id": "0_2H9uTMs_Be",
        "outputId": "498662c7-aed0-496a-ddf5-c4b6bf739544"
      },
      "execution_count": 29,
      "outputs": [
        {
          "output_type": "stream",
          "name": "stdout",
          "text": [
            "Array  = [1 2 3]\n"
          ]
        }
      ]
    },
    {
      "cell_type": "code",
      "source": [
        "#Q15 \n",
        "arr = np.array([1,2,3])\n",
        "print(arr)\n",
        "arr.fill(9)\n",
        "print(arr)"
      ],
      "metadata": {
        "colab": {
          "base_uri": "https://localhost:8080/"
        },
        "id": "sSNw25UMtMc3",
        "outputId": "3ebe184e-d176-4dd7-eb7f-0d0440f99615"
      },
      "execution_count": 31,
      "outputs": [
        {
          "output_type": "stream",
          "name": "stdout",
          "text": [
            "[1 2 3]\n",
            "[9 9 9]\n"
          ]
        }
      ]
    },
    {
      "cell_type": "code",
      "source": [
        "#Q16 \n",
        "arr = np.array([2,4,5])\n",
        "print('sum =',arr.sum())"
      ],
      "metadata": {
        "colab": {
          "base_uri": "https://localhost:8080/"
        },
        "id": "vyCtR4Jou-q1",
        "outputId": "1f5e58db-197b-4cd0-8ab9-1d28999e12d2"
      },
      "execution_count": 32,
      "outputs": [
        {
          "output_type": "stream",
          "name": "stdout",
          "text": [
            "sum = 11\n"
          ]
        }
      ]
    },
    {
      "cell_type": "code",
      "source": [
        "#Q17 \n",
        "arr = np.array([77,74,75])\n",
        "print('product =',arr.prod())"
      ],
      "metadata": {
        "colab": {
          "base_uri": "https://localhost:8080/"
        },
        "id": "3xw9hCsfvqwz",
        "outputId": "aecb1049-bdee-46ab-ef7e-37eb8878da31"
      },
      "execution_count": 33,
      "outputs": [
        {
          "output_type": "stream",
          "name": "stdout",
          "text": [
            "product = 427350\n"
          ]
        }
      ]
    },
    {
      "cell_type": "code",
      "source": [
        "#Q18 \n",
        "import pandas as pd\n",
        "arr = np.array([2,1,9,1,2,22,1,1,4,55,6,2,56])\n",
        "df = pd.DataFrame(arr)\n",
        "print('Mean =',df.mean())\n",
        "print('Median =',df.median())\n",
        "print('Variance =',df.var())\n",
        "print('max =',df.max())\n",
        "print('min =',df.min())\n",
        "print('argmin =',np.argmin(arr))\n",
        "print('argmax =',np.argmax(arr))\n",
        "print('standarad deviation =',np.std(arr))"
      ],
      "metadata": {
        "colab": {
          "base_uri": "https://localhost:8080/"
        },
        "id": "QpxWBoo5wBnv",
        "outputId": "ba559f09-9503-43c9-cb13-b6efcd853568"
      },
      "execution_count": 34,
      "outputs": [
        {
          "output_type": "stream",
          "name": "stdout",
          "text": [
            "Mean = 0    12.461538\n",
            "dtype: float64\n",
            "Median = 0    2.0\n",
            "dtype: float64\n",
            "Variance = 0    397.935897\n",
            "dtype: float64\n",
            "max = 0    56\n",
            "dtype: int64\n",
            "min = 0    1\n",
            "dtype: int64\n",
            "argmin = 1\n",
            "argmax = 12\n",
            "standarad deviation = 19.165736192147232\n"
          ]
        }
      ]
    },
    {
      "cell_type": "code",
      "source": [
        "#Q19 \n",
        "arr = np.array([1,1,4,5,5,5,7])\n",
        "np.sort(np.unique(arr))"
      ],
      "metadata": {
        "colab": {
          "base_uri": "https://localhost:8080/"
        },
        "id": "bLhsoOJCwm03",
        "outputId": "cf5eddb1-82d0-4f48-bd92-ac0a4543fff8"
      },
      "execution_count": 36,
      "outputs": [
        {
          "output_type": "execute_result",
          "data": {
            "text/plain": [
              "array([1, 4, 5, 7])"
            ]
          },
          "metadata": {},
          "execution_count": 36
        }
      ]
    },
    {
      "cell_type": "code",
      "source": [
        "#Q20 \n",
        "arr1 = np.array([1,2,3])\n",
        "arr2 = np.array([0,1,1])\n",
        "print('dot product  =',np.dot(arr1,arr2))"
      ],
      "metadata": {
        "colab": {
          "base_uri": "https://localhost:8080/"
        },
        "id": "xjbvSJYpx48T",
        "outputId": "68db99b3-bc8f-4e5e-fbfb-55303b40f10e"
      },
      "execution_count": 39,
      "outputs": [
        {
          "output_type": "stream",
          "name": "stdout",
          "text": [
            "dot product  = 5\n"
          ]
        }
      ]
    },
    {
      "cell_type": "code",
      "source": [
        "#Q21\n",
        "arr = np.array([[2,-12],[1,-5]])\n",
        "egvalue,egvector = np.linalg.eig(arr)\n",
        "print('Eigenvalues =',egvalue)\n",
        "print('Eigenvector =', egvector)"
      ],
      "metadata": {
        "colab": {
          "base_uri": "https://localhost:8080/"
        },
        "id": "8AjXIrZGyT9Y",
        "outputId": "2af2f0ae-e05c-43af-befc-b292601af0fc"
      },
      "execution_count": 38,
      "outputs": [
        {
          "output_type": "stream",
          "name": "stdout",
          "text": [
            "Eigenvalues = [-1. -2.]\n",
            "Eigenvector = [[0.9701425  0.9486833 ]\n",
            " [0.24253563 0.31622777]]\n"
          ]
        }
      ]
    },
    {
      "cell_type": "code",
      "source": [],
      "metadata": {
        "id": "-Oob8mXezQdM"
      },
      "execution_count": null,
      "outputs": []
    }
  ]
}